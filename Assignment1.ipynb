{
 "cells": [
  {
   "cell_type": "code",
   "execution_count": null,
   "id": "f27a0fa8-614e-4d99-998e-19022ea50800",
   "metadata": {},
   "outputs": [],
   "source": [
    "#1. Write a program that swaps the values of two variables.\n",
    "num_1=input()\n",
    "num_2=input()\n",
    "temp=0\n",
    "temp=num_1\n",
    "num_1=num_2\n",
    "num_2=temp\n",
    "print('number 1=', num_1)\n",
    "print('number 2=', num_2)\n"
   ]
  },
  {
   "cell_type": "code",
   "execution_count": null,
   "id": "c35de1e6-8cef-44de-a635-1dd0dbcb0b90",
   "metadata": {},
   "outputs": [],
   "source": [
    "#2. Write a program that calculates the area of a rectangle given its length and width.\n",
    "length=int(input())\n",
    "width= int(input())\n",
    "area=length * width\n",
    "print (area)\n",
    "print ('Area of a rectangle is', area,'sq metre')"
   ]
  },
  {
   "cell_type": "code",
   "execution_count": null,
   "id": "eda5a0ca-7209-4f1c-8efa-34dbd6663aca",
   "metadata": {},
   "outputs": [],
   "source": [
    "#3. Write a program that converts temperature from Fahrenheit to Celsius.\n",
    "F= float(input())\n",
    "C= 5/9*(F-32)\n",
    "C=f\"{C:0.2f}\"\n",
    "print(F,' Fahrenheit is',C,'in Celsius')"
   ]
  },
  {
   "cell_type": "code",
   "execution_count": null,
   "id": "9e3fd82c-5cf6-4511-9b33-7cc2068dcf3f",
   "metadata": {},
   "outputs": [],
   "source": [
    "#4. Write a program that calculates the volume of a sphere given its radius.\n",
    "import math\n",
    "radius= float(input())\n",
    "volume = 4/3*math.pi*radius**3\n",
    "v= f\"{volume:.3f}\"\n",
    "print(v)\n"
   ]
  },
  {
   "cell_type": "code",
   "execution_count": null,
   "id": "0b92e2dd-f99b-42d1-a139-b9da1a14b6c8",
   "metadata": {},
   "outputs": [],
   "source": [
    "#5. Write a program that finds the average of three numbers.\n",
    "num_1=float(input('Enter no 1'))\n",
    "num_2=float(input('Enter no 2'))\n",
    "num_3=float(input('Enter no 3'))\n",
    "\n",
    "avg=(num_1+num_2+num_3)/3\n",
    "avg=f\"{avg:.3f}\"\n",
    "print('the average of three numbers is',avg)"
   ]
  },
  {
   "cell_type": "code",
   "execution_count": null,
   "id": "5db4206a-06e7-4e41-9301-90431bb61753",
   "metadata": {},
   "outputs": [],
   "source": [
    "#6. Write a program that determines if a number is even or odd.\n",
    "num=float(input('Enter a number'))\n",
    "if num % 2 ==0:\n",
    "    print(num,\"is even\")\n",
    "else:\n",
    "    print(num,\"is odd\")\n",
    "    \n",
    "    "
   ]
  },
  {
   "cell_type": "code",
   "execution_count": null,
   "id": "bc205562-e2ad-4a48-8452-7f4373b8c852",
   "metadata": {},
   "outputs": [],
   "source": [
    "#7. Write a program that finds the maximum of three numbers.\n",
    "import array\n",
    "import numpy as np\n",
    "size=int(input('Enter the size of the array '))\n",
    "numbers=array.array('i',[0]*size)\n",
    "for i in range(size):\n",
    "    numbers[i]=int(input(f\"Enter {i+1}th element\"))\n",
    "\n",
    "print('The numbers are',numbers)\n",
    "large= np.max(numbers)\n",
    "print(large)"
   ]
  },
  {
   "cell_type": "code",
   "execution_count": null,
   "id": "a9df0c85-46da-4f39-b17d-77d7e31f2293",
   "metadata": {},
   "outputs": [],
   "source": [
    "num1=100\n",
    "num2=346\n",
    "num3=4000\n",
    "if num1>num2:\n",
    "    print('Largest number is',num1)\n",
    "elif num2>num3:\n",
    "    print('Largest number is',num2)\n",
    "elif num1>num3:\n",
    "    print('Largest number is',num1)\n",
    "else:\n",
    "    print('Largest number is',num3)\n",
    "    \n",
    "    "
   ]
  },
  {
   "cell_type": "code",
   "execution_count": null,
   "id": "cf782f1d-3717-4ba2-9c7a-c31edda48bff",
   "metadata": {},
   "outputs": [],
   "source": [
    "#8. Write a program that determines if a year is a leap year or not.\n",
    "def isLeapYear(year):\n",
    "    if year % 400 == 0:\n",
    "        return True\n",
    "    elif year % 100 == 0:\n",
    "        return True\n",
    "    elif year % 4 == 0:\n",
    "        return True\n",
    "    else:\n",
    "        return False\n",
    "year =int(input('Enter a year'))\n",
    "if isLeapYear(year):\n",
    "    print(f\"{year} is leap year\")\n",
    "else:\n",
    "    print(f\"{year} is not leap year\")\n"
   ]
  },
  {
   "cell_type": "code",
   "execution_count": null,
   "id": "407cc627-6cad-448d-bc06-648661ee359a",
   "metadata": {},
   "outputs": [],
   "source": [
    "#9. Write a program that determines if a number is positive, negative, or zero.\n",
    "import array\n",
    "size=int(input(\"Enter the array size\"))\n",
    "number=array.array('i',[0]*size)\n",
    "for i in range(size):\n",
    "    number[i] = int(input(f\"enter {i+1} element\"))\n",
    "\n",
    "print(\"the array of numbers is \",number)\n",
    "for i in range(size):\n",
    "    if number[i]> 0:\n",
    "        print(number[i],\"is a positive number\")\n",
    "\n",
    "    elif number[i]<0:\n",
    "        print(number[i],\"is a negtive number\")\n",
    "\n",
    "    else :\n",
    "        print(number[i],\"is Zero\")\n"
   ]
  },
  {
   "cell_type": "code",
   "execution_count": null,
   "id": "84402f6b-f332-4824-a938-ffaf32e3e375",
   "metadata": {},
   "outputs": [],
   "source": [
    "#10. Write a program that calculates the grade based on a given percentage.\n",
    "def grade(mark):\n",
    "    if mark > 100 or mark <0:\n",
    "        print(mark,\"is invalid\")\n",
    "    elif mark >= 80:\n",
    "        print(mark,\"is A+\")\n",
    "    elif mark >=70:\n",
    "        print(mark,\"is A\")\n",
    "    elif mark >= 60:\n",
    "        print(mark,\"is A-\")\n",
    "    elif mark >=50:\n",
    "        print(mark,\"is B\")\n",
    "    elif mark >=40:\n",
    "        print(mark,\"is C\")\n",
    "    elif mark >=33:\n",
    "        print(mark,\"is D\")\n",
    "    else:\n",
    "        print(mark,\"is Fail\")\n",
    "\n",
    "mark= int(input(\"Enter your mark\"))\n",
    "grade(mark)"
   ]
  },
  {
   "cell_type": "code",
   "execution_count": null,
   "id": "5c58441a-161c-4885-8ea2-e9d5f33c456f",
   "metadata": {},
   "outputs": [],
   "source": [
    "#11. Write a program that prints the first `n` natural numbers.\n",
    "number= int(input(\"enter numbers\"))\n",
    "for i in range(number):\n",
    "    print(i+1)"
   ]
  },
  {
   "cell_type": "code",
   "execution_count": null,
   "id": "5f79ef88-6209-4d75-820c-ffc7e7c05dcd",
   "metadata": {},
   "outputs": [],
   "source": [
    "#12. Write a program that calculates the factorial of a number.\n",
    "\n",
    "number= int(input(\"enter numbers\"))\n",
    "sum=1;\n",
    "for i in range(1, number+1):\n",
    "    sum *= i\n",
    "\n",
    "print(sum)\n"
   ]
  },
  {
   "cell_type": "code",
   "execution_count": null,
   "id": "c9db9268-f8f7-4452-9e7f-18c2844c9ae0",
   "metadata": {},
   "outputs": [],
   "source": [
    "#13. Write a program that generates a Fibonacci sequence of length `n`.\n",
    "def fibonacci(n):\n",
    "    if n <= 0:\n",
    "        return []\n",
    "    elif n == 1:\n",
    "        return [0]\n",
    "  \n",
    "    sequence = [0, 1]\n",
    "    \n",
    "    for _ in range(2, n):\n",
    "        next_number = sequence[-1] + sequence[-2]\n",
    "        sequence += [next_number]\n",
    "    \n",
    "    return sequence\n",
    "\n",
    "n= int(input(\"enter numbers\"))\n",
    "print(fibonacci(n))\n",
    "        "
   ]
  },
  {
   "cell_type": "code",
   "execution_count": null,
   "id": "56898be8-72c6-4211-bf64-7ff1d73e50dc",
   "metadata": {},
   "outputs": [],
   "source": [
    "#14. Write a program that checks if a given number is prime or not.\n",
    "def primeOrNot(num):\n",
    "    count = 0\n",
    "    for i in range(1,num+1):\n",
    "        if num % i== 0:\n",
    "            count= count+1\n",
    "    if count ==2:\n",
    "        print(num,\"is Prime\")\n",
    "    else:\n",
    "        print (num,\"is not Prime\")\n",
    "\n",
    "num= int(input(\"enter number\"))\n",
    "print(primeOrNot(num))"
   ]
  },
  {
   "cell_type": "code",
   "execution_count": null,
   "id": "ac9ba369-851b-4983-8ed9-dff101897619",
   "metadata": {},
   "outputs": [],
   "source": [
    "#15. Write a program that prints the multiplication table of a given number.\n",
    "def multiplication_table(num):\n",
    "    for i in range(10):\n",
    "        j= i+1\n",
    "        result = j* num\n",
    "        print(j,\"*\",num,\"=\",result)\n",
    "num= int(input(\"enter number\"))\n",
    "print(multiplication_table(num))\n",
    "\n",
    "\n"
   ]
  },
  {
   "cell_type": "code",
   "execution_count": null,
   "id": "ab7f4965-5b7e-4657-a3d2-d10c2087119e",
   "metadata": {},
   "outputs": [],
   "source": [
    "#16. Write a program that finds the sum of all even numbers between 1 and `n`.\n",
    "def even(num):\n",
    "    current=2\n",
    "    sum=0\n",
    "    while current<= num :\n",
    "        sum= sum+current\n",
    "        current = current+2\n",
    "    return sum    \n",
    "    \n",
    "\n",
    "num= int(input(\"enter number\"))\n",
    "print(even(num))\n",
    "        "
   ]
  },
  {
   "cell_type": "code",
   "execution_count": null,
   "id": "ef55d826-5910-4611-8c39-e1f6160513c3",
   "metadata": {},
   "outputs": [],
   "source": [
    "#17. Write a program that reverses a given number.\n",
    "def reverse(num):\n",
    "    reversed_num = 0\n",
    "    while num > 0:\n",
    "        last_dig = num % 10\n",
    "        reversed_num = reversed_num* 10 + last_dig\n",
    "        num //=10\n",
    "        \n",
    "    return reversed_num\n",
    "    \n",
    "\n",
    "\n",
    "num = int(input(\"Enter a Number\"))\n",
    "print(\"The reversed number is :\",reverse(num))\n",
    "     \n"
   ]
  },
  {
   "cell_type": "code",
   "execution_count": null,
   "id": "da02bef4-faea-4726-b240-cb9b20b695c0",
   "metadata": {},
   "outputs": [],
   "source": [
    "#18. Write a program that checks if a given string, is a palindrome.\n",
    "def palindrome(s):\n",
    "    left = 0\n",
    "    right = len(s)-1\n",
    "    while left < right:\n",
    "        if s[left] != s[right]:\n",
    "            return False\n",
    "        left += 1\n",
    "        right -=1\n",
    "    return True\n",
    "\n",
    "s=input(\"Enter a string\")\n",
    "print(palindrome(s))\n",
    "\n",
    "if palindrome(s):\n",
    "    print(s,\"is a palindrome\")\n",
    "else:\n",
    "    print(s,\"is not a palindrome\")\n",
    "    "
   ]
  },
  {
   "cell_type": "code",
   "execution_count": null,
   "id": "513ea629-378b-43e3-acac-6c32728f4598",
   "metadata": {},
   "outputs": [],
   "source": [
    "#19. Write a program that generates a random number and allows the user to guess it.\n",
    "import random \n",
    "def guess_no():\n",
    "     random_num= random.randint(1,100)\n",
    "     \n",
    "     \n",
    "     while True:\n",
    "         num = int(input(\"Enter Guess no Number\"))\n",
    "         \n",
    "         if random_num == num:\n",
    "             print(\"You guess correctly \")\n",
    "         else: \n",
    "             print(num,\"is Wrong guess!!! random no is\",random_num)\n",
    "             break\n",
    "\n",
    "\n",
    "guess_no() "
   ]
  },
  {
   "cell_type": "code",
   "execution_count": null,
   "id": "468b3131-b5a2-4c9d-916a-7f3057c3489e",
   "metadata": {},
   "outputs": [],
   "source": [
    "#20. Write a program that finds the greatest common divisor (GCD) of two numbers.\n",
    "def gcd(a,b):\n",
    "    while b!=0:\n",
    "        a,b = b,a%b\n",
    "    return a\n",
    "num1= int(input(\"Enter the 1 st number\"))\n",
    "num2= int(input(\"Enter the 2nd number\"))\n",
    "print(f\"GCD of {num1} and {num2} is {gcd(num1,num2)}\")\n",
    "\n",
    "\n",
    "        "
   ]
  }
 ],
 "metadata": {
  "kernelspec": {
   "display_name": "Python 3 (ipykernel)",
   "language": "python",
   "name": "python3"
  },
  "language_info": {
   "codemirror_mode": {
    "name": "ipython",
    "version": 3
   },
   "file_extension": ".py",
   "mimetype": "text/x-python",
   "name": "python",
   "nbconvert_exporter": "python",
   "pygments_lexer": "ipython3",
   "version": "3.12.4"
  }
 },
 "nbformat": 4,
 "nbformat_minor": 5
}
